{
 "cells": [
  {
   "cell_type": "code",
   "execution_count": 3,
   "metadata": {
    "collapsed": false
   },
   "outputs": [],
   "source": [
    "import numpy as np\n",
    "\n",
    "from matplotlib import pyplot as plt\n",
    "%matplotlib inline"
   ]
  },
  {
   "cell_type": "markdown",
   "metadata": {},
   "source": [
    "-----------\n",
    "\n",
    "##### Exercise 7.7\n"
   ]
  },
  {
   "cell_type": "code",
   "execution_count": 4,
   "metadata": {
    "collapsed": true
   },
   "outputs": [],
   "source": [
    "class LoopyEnvironment(object):\n",
    "    def __init__(self):\n",
    "        self._terminal_state = 5\n",
    "        self._state = 0\n",
    "        self._num_actions = 2\n",
    "    \n",
    "    @property\n",
    "    def state(self):\n",
    "        return self._state\n",
    "    \n",
    "    @state.setter\n",
    "    def state(self, state):\n",
    "        assert isinstance(state, int)\n",
    "        assert state >= 0 and state <= self._terminal_state\n",
    "        self._state = state\n",
    "    \n",
    "    @property\n",
    "    def terminal_state(self):\n",
    "        return self._terminal_state\n",
    "\n",
    "    def reinit_state(self):\n",
    "        self._state = 0\n",
    "    \n",
    "    def get_states_list(self):\n",
    "        return range(self._terminal_state + 1)\n",
    "    \n",
    "    def get_actions_list(self):\n",
    "        return range(self._num_actions)\n",
    "    \n",
    "    def is_terminal_state(self):\n",
    "        return self._state == self._terminal_state\n",
    "    \n",
    "    def take_action(self, action):\n",
    "        \"\"\"\n",
    "            action int: 0 or 1\n",
    "                if action is 0 = wrong, then don't change the state\n",
    "                if action is 1 = right, then go to the next state\n",
    "\n",
    "            returns int: reward\n",
    "        \"\"\"\n",
    "        assert action in [0, 1]\n",
    "        assert self.is_terminal_state() == False\n",
    "        if action == 1:\n",
    "            self._state += 1\n",
    "        if self._state == self._terminal_state:\n",
    "            return 1\n",
    "        return 0"
   ]
  },
  {
   "cell_type": "code",
   "execution_count": 150,
   "metadata": {
    "collapsed": false
   },
   "outputs": [],
   "source": [
    "import random\n",
    "from itertools import product\n",
    "\n",
    "class SARSA_lambda(object):\n",
    "    def __init__(self, environment):\n",
    "        states = environment.get_states_list()\n",
    "        actions = environment.get_actions_list()\n",
    "        \n",
    "        self.environment = environment\n",
    "        self.state_actions = list(product(states, actions))\n",
    "        self.Q = np.random.random([len(states), len(actions)])\n",
    "        self.e = np.zeros([len(states), len(actions)])\n",
    "    \n",
    "    def _get_epsilon_greedy_action(self, epsilon, p):\n",
    "        if random.random() <= epsilon:\n",
    "            action = random.randint(0, len(p) - 1)\n",
    "            return action\n",
    "        actions = np.where(p == np.amax(p))[0]\n",
    "        action = np.random.choice(actions)\n",
    "        return action\n",
    "    \n",
    "    def learn(self, num_episodes=100, Lambda=.9, gamma=.9, epsilon=.05, alpha=0.05,\n",
    "             replace_trace=False):\n",
    "        \"\"\"\n",
    "        Args:\n",
    "            num_episodes (int): Number of episodes to train\n",
    "            Lambda (float): TD(lambda) parameter \n",
    "                (if lambda = 1 we have MC or if lambda = 0 we have 1-step TD)\n",
    "            gamma (float): decay parameter for Bellman equation\n",
    "            epsilon (float): epsilon greedy decisions\n",
    "            alpha (float): determines how big should TD update be\n",
    "        \n",
    "        Returns:\n",
    "            list (int): the number of time steps it takes for each episode to terminate\n",
    "        \"\"\"\n",
    "        \n",
    "        time_steps = []\n",
    "        for n in xrange(num_episodes):\n",
    "            time_idx = 0\n",
    "            self.e = self.e * 0\n",
    "            self.environment.reinit_state()\n",
    "            s = self.environment.state\n",
    "            a = random.randint(0, self.Q.shape[1] - 1)\n",
    "            while not self.environment.is_terminal_state():\n",
    "                r = self.environment.take_action(a)\n",
    "                time_idx += 1\n",
    "\n",
    "                s_prime = self.environment.state\n",
    "                a_prime = self._get_epsilon_greedy_action(epsilon, self.Q[s_prime, :])\n",
    "                delta = r + gamma * self.Q[s_prime, a_prime] - self.Q[s, a]\n",
    "\n",
    "                if replace_trace:\n",
    "                    self.e[s, a] = 1\n",
    "                else:\n",
    "                    self.e[s, a] = self.e[s, a] + 1\n",
    "                    \n",
    "                for s, a in self.state_actions:\n",
    "                    self.Q[s, a] = self.Q[s, a] + alpha * delta * self.e[s, a]\n",
    "                    self.e[s, a] = gamma * Lambda * self.e[s, a]\n",
    "                    \n",
    "                s = s_prime\n",
    "                a = a_prime\n",
    "                \n",
    "            time_steps.append(time_idx)\n",
    "        return time_steps\n"
   ]
  },
  {
   "cell_type": "code",
   "execution_count": 151,
   "metadata": {
    "collapsed": false
   },
   "outputs": [],
   "source": [
    "env = LoopyEnvironment()\n",
    "s = SARSA_lambda(env)"
   ]
  },
  {
   "cell_type": "markdown",
   "metadata": {},
   "source": [
    "Run both the replace-trace and the SARSA($\\lambda$) regular trace methods for X episodes, and repeat N times. Get the average time length over all X episodes for each iteration for each alpha. In the environment in Figure 7.18, it takes at a minimum, 5 time steps to terminate. This is our baseline."
   ]
  },
  {
   "cell_type": "code",
   "execution_count": 154,
   "metadata": {
    "collapsed": false
   },
   "outputs": [],
   "source": [
    "\n",
    "def get_results(replace_trace, num_trials, num_episodes):\n",
    "    alphas = np.linspace(.2, 1, num=10)\n",
    "    results = np.array([])\n",
    "    for alpha in alphas:\n",
    "        res = []\n",
    "        for i in xrange(num_trials):\n",
    "            sarsa_lambda = SARSA_lambda(env)\n",
    "            t = sarsa_lambda.learn(num_episodes=num_episodes, alpha=alpha, \n",
    "                                   replace_trace=replace_trace, gamma=0.9,\n",
    "                                   epsilon=0.05, Lambda=0.9)\n",
    "            res.append(np.mean(t))\n",
    "\n",
    "        if results.shape[0] == 0:\n",
    "            results = np.array([alpha, np.mean(res)])\n",
    "        else:\n",
    "            results = np.vstack([results, [alpha, np.mean(res)]])\n",
    "    return results\n",
    "\n",
    "num_trials = 100\n",
    "num_episodes = 20\n",
    "replace_trace = get_results(True, num_trials, num_episodes)\n",
    "regular_trace = get_results(False, num_trials, num_episodes)\n",
    "        "
   ]
  },
  {
   "cell_type": "code",
   "execution_count": 155,
   "metadata": {
    "collapsed": false
   },
   "outputs": [
    {
     "data": {
      "text/plain": [
       "<matplotlib.text.Text at 0x110d3fd90>"
      ]
     },
     "execution_count": 155,
     "metadata": {},
     "output_type": "execute_result"
    },
    {
     "data": {
      "image/png": "[encoded data removed]",
      "text/plain": [
       "<matplotlib.figure.Figure at 0x10e605b90>"
      ]
     },
     "metadata": {},
     "output_type": "display_data"
    }
   ],
   "source": [
    "plt.plot(replace_trace[:, 0], replace_trace[:, 1], label='replace')\n",
    "plt.plot(regular_trace[:, 0], regular_trace[:, 1], label='regular')\n",
    "\n",
    "plt.legend()\n",
    "plt.title('Exercise 7.7: First %d episodes averaged %d times' %(num_episodes, num_trials))\n",
    "plt.xlabel('alpha')\n",
    "plt.ylabel('Time-steps')"
   ]
  },
  {
   "cell_type": "markdown",
   "metadata": {},
   "source": [
    "We see that on average, the replace trace method for $\\gamma = 0.9$, $\\lambda=0.9$, $\\epsilon=0.05$ takes less time to terminate. With lower $\\gamma$, the advantage of replace-trace seems to disappear."
   ]
  },
  {
   "cell_type": "markdown",
   "metadata": {},
   "source": [
    "------\n",
    "\n",
    "** \"Eligibility traces are the first line of defense against both long-delayed rewards and non-Markov tasks.\"**\n"
   ]
  },
  {
   "cell_type": "code",
   "execution_count": null,
   "metadata": {
    "collapsed": true
   },
   "outputs": [],
   "source": []
  }
 ],
 "metadata": {
  "kernelspec": {
   "display_name": "Python 2",
   "language": "python",
   "name": "python2"
  },
  "language_info": {
   "codemirror_mode": {
    "name": "ipython",
    "version": 2
   },
   "file_extension": ".py",
   "mimetype": "text/x-python",
   "name": "python",
   "nbconvert_exporter": "python",
   "pygments_lexer": "ipython2",
   "version": "2.7.11"
  }
 },
 "nbformat": 4,
 "nbformat_minor": 0
}
